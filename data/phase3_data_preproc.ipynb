{
 "cells": [
  {
   "cell_type": "code",
   "execution_count": 56,
   "metadata": {},
   "outputs": [],
   "source": [
    "import pandas as pd \n",
    "import seaborn as sns\n",
    "import matplotlib.pyplot as plt\n",
    "import numpy as np\n",
    "\n",
    "from tqdm import tqdm\n",
    "import re\n",
    "import os\n",
    "import sys\n",
    "cur_dir = os.path.dirname(os.path.abspath(\"__file__\"))  # Gets the current notebook directory\n",
    "src_dir = os.path.join(cur_dir, '../')  # Constructs the path to the 'src' directory\n",
    "if src_dir not in sys.path:\n",
    "    sys.path.append(src_dir)\n",
    "    \n",
    "from src.constant import sidewalks, stations"
   ]
  },
  {
   "cell_type": "code",
   "execution_count": 57,
   "metadata": {},
   "outputs": [],
   "source": [
    "def process_df(base_name):\n",
    "\n",
    "    input = pd.read_csv(f\"../data/PredictionModelOutput/{base_name}_ModelInputs.csv\")\n",
    "    # output = pd.read_csv(f\"../data/PredictionModelOutput/{base_name}_ModelOutputs.csv\")\n",
    "    features = pd.read_csv(f\"../data/FeatureGeneratorOutput/{base_name}.csv\")\n",
    "    state = pd.read_csv(f\"../data/FAMOutput/{base_name}_States.csv\")\n",
    "\n",
    "    input.columns = [c.strip().replace(' ', '_') for c in input.columns]\n",
    "    # output.columns = [c.strip().replace(' ', '_') for c in output.columns]\n",
    "    features.columns = [c.strip().replace(' ', '_') for c in features.columns]\n",
    "\n",
    "    input = input[['Timestamp', 'User_X', 'User_Y', 'AGV_X', 'AGV_Y']]\n",
    "\n",
    "    features = features[features['Phase2_scenario_num'] != 1]\n",
    "    features['scenario'] = features['Phase2_scenario_num'] - 1\n",
    "\n",
    "    features.drop(columns=['Phase1_scenario_num', 'Phase2_scenario_num'], inplace=True)\n",
    "\n",
    "    df = pd.merge(features,state, on='Timestamp', how='left')\n",
    "\n",
    "    # Function to fix timestamp format\n",
    "    def fix_timestamp_format(ts):\n",
    "        match = re.match(r\"(.*:)(\\d+)$\", ts)\n",
    "        if match:\n",
    "            prefix, last_part = match.groups()\n",
    "            if len(last_part) == 4:\n",
    "                fixed_last_part = last_part + \"0\"  # Append 0 if it's 4 digits\n",
    "            else:\n",
    "                fixed_last_part = last_part  # Keep as is if already 5 digits\n",
    "            return prefix + fixed_last_part\n",
    "        return ts  # Return as is if no match\n",
    "\n",
    "    df[\"Timestamp\"] = df[\"Timestamp\"].apply(fix_timestamp_format)\n",
    "    df.reset_index(drop=True, inplace=True)\n",
    "    df['Timestamp'] = df.index\n",
    "    return df\n",
    "\n"
   ]
  },
  {
   "cell_type": "code",
   "execution_count": 59,
   "metadata": {},
   "outputs": [
    {
     "name": "stderr",
     "output_type": "stream",
     "text": [
      "Processing files: 100%|██████████| 100/100 [00:03<00:00, 31.77it/s]\n"
     ]
    }
   ],
   "source": [
    "base_files = set()\n",
    "for file_name in os.listdir(\"../data/PredictionModelOutput\"):\n",
    "    if file_name.endswith(\".csv\"):\n",
    "        base_files.add(file_name.strip(\".csv\").split(\"_Model\")[0])\n",
    "base_files = list(base_files)\n",
    "\n",
    "for base_name in tqdm(sorted(base_files), desc=\"Processing files\"):\n",
    "    user = base_name.split(\"_\")[0]\n",
    "    type = re.search(r'(Control|eHMI_pred|pred_only)', base_name).group(0)\n",
    "    data = process_df(base_name)\n",
    "    data['User'] = user\n",
    "    data['Type'] = type\n",
    "    data.to_pickle(f\"../data/Phase3/Modified/{base_name}.pkl\")\n",
    "\n"
   ]
  }
 ],
 "metadata": {
  "kernelspec": {
   "display_name": "base",
   "language": "python",
   "name": "python3"
  },
  "language_info": {
   "codemirror_mode": {
    "name": "ipython",
    "version": 3
   },
   "file_extension": ".py",
   "mimetype": "text/x-python",
   "name": "python",
   "nbconvert_exporter": "python",
   "pygments_lexer": "ipython3",
   "version": "3.12.7"
  }
 },
 "nbformat": 4,
 "nbformat_minor": 2
}
